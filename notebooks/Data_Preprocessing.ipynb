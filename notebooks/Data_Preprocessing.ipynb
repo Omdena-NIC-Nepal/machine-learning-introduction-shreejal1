{
 "cells": [
  {
   "cell_type": "code",
   "execution_count": 1,
   "id": "7a2fe287",
   "metadata": {},
   "outputs": [],
   "source": [
    "# Step 1: Import libraries\n",
    "import pandas as pd\n",
    "import numpy as np\n",
    "from sklearn.model_selection import train_test_split\n",
    "from sklearn.preprocessing import StandardScaler\n",
    "import matplotlib.pyplot as plt\n",
    "import seaborn as sns"
   ]
  },
  {
   "cell_type": "code",
   "execution_count": 2,
   "id": "898fe946",
   "metadata": {},
   "outputs": [],
   "source": [
    "# Step 2: Load the dataset\n",
    "data = pd.read_csv('../data/BostonHousing.csv')"
   ]
  },
  {
   "cell_type": "code",
   "execution_count": 3,
   "id": "aacab5bd",
   "metadata": {},
   "outputs": [
    {
     "name": "stdout",
     "output_type": "stream",
     "text": [
      "Missing values before cleanup:\n",
      "crim       0\n",
      "zn         0\n",
      "indus      0\n",
      "chas       0\n",
      "nox        0\n",
      "rm         0\n",
      "age        0\n",
      "dis        0\n",
      "rad        0\n",
      "tax        0\n",
      "ptratio    0\n",
      "b          0\n",
      "lstat      0\n",
      "medv       0\n",
      "dtype: int64\n"
     ]
    }
   ],
   "source": [
    "# Step 3: Handle missing values\n",
    "print(\"Missing values before cleanup:\")\n",
    "print(data.isnull().sum())\n"
   ]
  },
  {
   "cell_type": "code",
   "execution_count": null,
   "id": "5dc4dcf2",
   "metadata": {},
   "outputs": [],
   "source": [
    "# Step 4: Detect and treat outliers\n",
    "# cap outliers using IQR\n",
    "def cap_outliers(df, columns):\n",
    "    for col in columns:\n",
    "        Q1 = df[col].quantile(0.25)\n",
    "        Q3 = df[col].quantile(0.75)\n",
    "        IQR = Q3 - Q1\n",
    "        lower = Q1 - 1.5 * IQR\n",
    "        upper = Q3 + 1.5 * IQR\n",
    "        df[col] = np.where(df[col] < lower, lower, df[col])\n",
    "        df[col] = np.where(df[col] > upper, upper, df[col])\n",
    "    return df\n",
    "\n",
    "numeric_cols = data.select_dtypes(include=['float64', 'int64']).columns.tolist()\n",
    "data = cap_outliers(data, numeric_cols)"
   ]
  },
  {
   "cell_type": "code",
   "execution_count": 6,
   "id": "e0bfd38a",
   "metadata": {},
   "outputs": [],
   "source": [
    "# Step 5: Encode categorical variables (chas is binary already)\n",
    "data['chas'] = data['chas'].astype(int)"
   ]
  },
  {
   "cell_type": "code",
   "execution_count": 7,
   "id": "1ab259a4",
   "metadata": {},
   "outputs": [],
   "source": [
    "# Step 6: Feature/target separation\n",
    "X = data.drop('medv', axis=1)\n",
    "y = data['medv']"
   ]
  },
  {
   "cell_type": "code",
   "execution_count": 8,
   "id": "70ecbf31",
   "metadata": {},
   "outputs": [],
   "source": [
    "# Step 7: Normalize/standardize features\n",
    "scaler = StandardScaler()\n",
    "X_scaled = scaler.fit_transform(X)"
   ]
  },
  {
   "cell_type": "code",
   "execution_count": 9,
   "id": "f4df9415",
   "metadata": {},
   "outputs": [],
   "source": [
    "# Step 8: Split into training and test sets\n",
    "X_train, X_test, y_train, y_test = train_test_split(\n",
    "    X_scaled, y, test_size=0.2, random_state=42\n",
    ")"
   ]
  },
  {
   "cell_type": "code",
   "execution_count": 10,
   "id": "2c82468a",
   "metadata": {},
   "outputs": [
    {
     "name": "stdout",
     "output_type": "stream",
     "text": [
      "Training feature shape: (404, 13)\n",
      "Test feature shape: (102, 13)\n"
     ]
    }
   ],
   "source": [
    "print(\"Training feature shape:\", X_train.shape)\n",
    "print(\"Test feature shape:\", X_test.shape)"
   ]
  },
  {
   "cell_type": "code",
   "execution_count": 11,
   "id": "680f563e",
   "metadata": {},
   "outputs": [
    {
     "name": "stdout",
     "output_type": "stream",
     "text": [
      "Preprocessed data saved to ../data/preprocessed_data.pkl\n"
     ]
    }
   ],
   "source": [
    "# Step 9: Save preprocessed data (optional for scripting)\n",
    "import joblib\n",
    "joblib.dump((X_train, X_test, y_train, y_test, scaler), '../data/preprocessed_data.pkl')\n",
    "print(\"Preprocessed data saved to ../data/preprocessed_data.pkl\")"
   ]
  }
 ],
 "metadata": {
  "kernelspec": {
   "display_name": "base",
   "language": "python",
   "name": "python3"
  },
  "language_info": {
   "codemirror_mode": {
    "name": "ipython",
    "version": 3
   },
   "file_extension": ".py",
   "mimetype": "text/x-python",
   "name": "python",
   "nbconvert_exporter": "python",
   "pygments_lexer": "ipython3",
   "version": "3.12.7"
  }
 },
 "nbformat": 4,
 "nbformat_minor": 5
}
